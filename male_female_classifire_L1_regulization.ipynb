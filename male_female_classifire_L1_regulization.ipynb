{
 "cells": [
  {
   "cell_type": "code",
   "execution_count": 1,
   "id": "coastal-portal",
   "metadata": {},
   "outputs": [],
   "source": [
    "import tensorflow as tf\n",
    "import os\n",
    "import zipfile\n",
    "import random\n",
    "import shutil\n",
    "from tensorflow.keras.optimizers import RMSprop\n",
    "from tensorflow.keras.preprocessing.image import ImageDataGenerator\n",
    "from shutil import copyfile\n",
    "from os import getcwd\n",
    "import matplotlib.image as mpimg\n",
    "import matplotlib.pyplot as plt"
   ]
  },
  {
   "cell_type": "code",
   "execution_count": 2,
   "id": "russian-horizon",
   "metadata": {},
   "outputs": [
    {
     "name": "stdout",
     "output_type": "stream",
     "text": [
      "2\n",
      "2\n"
     ]
    }
   ],
   "source": [
    "print(len(os.listdir(\"G:\\python NN code+data\\male_female_data\\Training\")))\n",
    "print(len(os.listdir(\"G:\\python NN code+data\\male_female_data\\Validation\")))\n"
   ]
  },
  {
   "cell_type": "code",
   "execution_count": 3,
   "id": "common-acting",
   "metadata": {},
   "outputs": [
    {
     "name": "stdout",
     "output_type": "stream",
     "text": [
      "Found 47000 images belonging to 2 classes.\n"
     ]
    }
   ],
   "source": [
    "train_dir=\"G:\\python NN code+data\\male_female_data\\Training\"\n",
    "#print(len(os.listdir(train_dir)))\n",
    "train_datagen=ImageDataGenerator(rescale=1.0/255.)\n",
    "train_generator=train_datagen.flow_from_directory(train_dir,\n",
    "                                                 batch_size=100,\n",
    "                                                 class_mode='binary',\n",
    "                                                 target_size=(150,150))\n"
   ]
  },
  {
   "cell_type": "code",
   "execution_count": 4,
   "id": "industrial-capability",
   "metadata": {},
   "outputs": [
    {
     "name": "stdout",
     "output_type": "stream",
     "text": [
      "Found 11637 images belonging to 2 classes.\n"
     ]
    }
   ],
   "source": [
    "test_dir=\"G:\\python NN code+data\\male_female_data\\Validation\"\n",
    "#print(len(os.listdir(test_dir)))\n",
    "test_datagen=ImageDataGenerator(rescale=1.0/255.)\n",
    "test_generator=test_datagen.flow_from_directory(test_dir,\n",
    "                                                 batch_size=100,\n",
    "                                                 class_mode='binary',\n",
    "                                                 target_size=(150,150))"
   ]
  },
  {
   "cell_type": "code",
   "execution_count": 9,
   "id": "finished-darkness",
   "metadata": {},
   "outputs": [],
   "source": [
    "model = tf.keras.models.Sequential([\n",
    "    tf.keras.layers.Conv2D(32,(3,3),activation='relu', input_shape=(150,150,3),use_bias=True),\n",
    "                                    tf.keras.layers.MaxPooling2D(2,2),\n",
    "                                    tf.keras.layers.Conv2D(32,(3,3),activation='relu',use_bias=True,kernel_regularizer =tf.keras.regularizers.l1( l=0.01)),\n",
    "                                    tf.keras.layers.MaxPooling2D(2,2), \n",
    "                                    tf.keras.layers.Conv2D(64, (3,3), activation='relu',use_bias=True,kernel_regularizer =tf.keras.regularizers.l1( l=0.01)), \n",
    "                                    tf.keras.layers.MaxPooling2D(2,2),\n",
    "                                    tf.keras.layers.Flatten(),  #Flatten the result and fit them into Dense Neural network\n",
    "                                    tf.keras.layers.Dense(512, activation='relu',use_bias=True,kernel_regularizer =tf.keras.regularizers.l1( l=0.01)), #Dense layer with 512 hidden units\n",
    "                                    #only one output unti due to binary classifaction,\n",
    "                                    tf.keras.layers.Dense(1, activation='sigmoid',use_bias=True)  \n",
    "\n",
    "])"
   ]
  },
  {
   "cell_type": "code",
   "execution_count": 10,
   "id": "statewide-civilian",
   "metadata": {},
   "outputs": [
    {
     "name": "stdout",
     "output_type": "stream",
     "text": [
      "Model: \"sequential_1\"\n",
      "_________________________________________________________________\n",
      "Layer (type)                 Output Shape              Param #   \n",
      "=================================================================\n",
      "conv2d_3 (Conv2D)            (None, 148, 148, 32)      896       \n",
      "_________________________________________________________________\n",
      "max_pooling2d_3 (MaxPooling2 (None, 74, 74, 32)        0         \n",
      "_________________________________________________________________\n",
      "conv2d_4 (Conv2D)            (None, 72, 72, 32)        9248      \n",
      "_________________________________________________________________\n",
      "max_pooling2d_4 (MaxPooling2 (None, 36, 36, 32)        0         \n",
      "_________________________________________________________________\n",
      "conv2d_5 (Conv2D)            (None, 34, 34, 64)        18496     \n",
      "_________________________________________________________________\n",
      "max_pooling2d_5 (MaxPooling2 (None, 17, 17, 64)        0         \n",
      "_________________________________________________________________\n",
      "flatten_1 (Flatten)          (None, 18496)             0         \n",
      "_________________________________________________________________\n",
      "dense_2 (Dense)              (None, 512)               9470464   \n",
      "_________________________________________________________________\n",
      "dense_3 (Dense)              (None, 1)                 513       \n",
      "=================================================================\n",
      "Total params: 9,499,617\n",
      "Trainable params: 9,499,617\n",
      "Non-trainable params: 0\n",
      "_________________________________________________________________\n"
     ]
    }
   ],
   "source": [
    "model.summary()"
   ]
  },
  {
   "cell_type": "code",
   "execution_count": 12,
   "id": "acknowledged-chorus",
   "metadata": {},
   "outputs": [],
   "source": [
    "model.compile(optimizer=RMSprop(lr=0.001), loss='binary_crossentropy', metrics=['acc'])\n"
   ]
  },
  {
   "cell_type": "code",
   "execution_count": null,
   "id": "further-extension",
   "metadata": {},
   "outputs": [
    {
     "name": "stdout",
     "output_type": "stream",
     "text": [
      "Epoch 1/30\n",
      "   3/4700 [..............................] - ETA: 8:17:18 - loss: 635.6568 - acc: 0.4767"
     ]
    }
   ],
   "source": [
    "history = model.fit_generator(train_generator,\n",
    "                              epochs=30,\n",
    "                              steps_per_epoch=4700,\n",
    "                              verbose=1,\n",
    "                              validation_data=test_generator)\n"
   ]
  },
  {
   "cell_type": "code",
   "execution_count": null,
   "id": "civil-building",
   "metadata": {},
   "outputs": [],
   "source": [
    "acc      = history.history[     'acc' ]\n",
    "val_acc  = history.history[ 'val_acc' ]\n",
    "loss     = history.history[    'loss' ]\n",
    "val_loss = history.history['val_loss' ]\n",
    "\n",
    "epochs   = range(len(acc)) # Get number of epochs\n",
    "\n",
    "#------------------------------------------------\n",
    "# Plot training and validation accuracy per epoch\n",
    "#------------------------------------------------\n",
    "plt.plot  ( epochs,     acc )\n",
    "plt.plot  ( epochs, val_acc )\n",
    "plt.title ('Training and validation accuracy')\n",
    "plt.figure()\n",
    "\n",
    "#------------------------------------------------\n",
    "# Plot training and validation loss per epoch\n",
    "#------------------------------------------------\n",
    "plt.plot  ( epochs,     loss )\n",
    "plt.plot  ( epochs, val_loss )\n",
    "plt.title ('Training and validation loss'   )"
   ]
  },
  {
   "cell_type": "code",
   "execution_count": null,
   "id": "expected-person",
   "metadata": {},
   "outputs": [],
   "source": [
    "model = tf.keras.models.Sequential([\n",
    "    tf.keras.layers.Conv2D(32,(3,3),activation='relu', input_shape=(100,100,3),use_bias=True),\n",
    "                                    tf.keras.layers.MaxPooling2D(2,2),\n",
    "                                    tf.keras.layers.Conv2D(32,(3,3),activation='relu',use_bias=True,kernel_regularizer =tf.keras.regularizers.l2( l=0.01)),\n",
    "                                    tf.keras.layers.MaxPooling2D(2,2), \n",
    "                                    tf.keras.layers.Conv2D(64, (3,3), activation='relu',use_bias=True,kernel_regularizer =tf.keras.regularizers.l2( l=0.01)), \n",
    "                                    tf.keras.layers.MaxPooling2D(2,2),\n",
    "                                    tf.keras.layers.Flatten(),  #Flatten the result and fit them into Dense Neural network\n",
    "                                    tf.keras.layers.Dense(512, activation='relu',use_bias=True,kernel_regularizer =tf.keras.regularizers.l2( l=0.01)), #Dense layer with 512 hidden units\n",
    "                                    #only one output unti due to binary classifaction,\n",
    "                                    tf.keras.layers.Dense(1, activation='sigmoid',use_bias=True)  \n",
    "\n",
    "])"
   ]
  }
 ],
 "metadata": {
  "kernelspec": {
   "display_name": "Python 3 (ipykernel)",
   "language": "python",
   "name": "python3"
  },
  "language_info": {
   "codemirror_mode": {
    "name": "ipython",
    "version": 3
   },
   "file_extension": ".py",
   "mimetype": "text/x-python",
   "name": "python",
   "nbconvert_exporter": "python",
   "pygments_lexer": "ipython3",
   "version": "3.9.6"
  }
 },
 "nbformat": 4,
 "nbformat_minor": 5
}
